{
 "cells": [
  {
   "cell_type": "code",
   "execution_count": 7,
   "metadata": {},
   "outputs": [],
   "source": [
    "def blackjack(a,b,c):\n",
    "    \n",
    "    #check if the three numbers selected contain an 11 and 10 less than their sum is greater than 21\n",
    "    \n",
    "    if 11 in (a,b,c) and (sum([a,b,c]) - 10) > 21:\n",
    "        return 'BUST'\n",
    "    \n",
    "    #check if the three numbers selected contain an 11 and their sum is greater than 21\n",
    "    \n",
    "    elif 11 in (a,b,c) and sum([a,b,c]) > 21:\n",
    "        return sum([a,b,c]) - 10\n",
    "    \n",
    "    #check if their sum is greater than 21\n",
    "    \n",
    "    elif a+b+c > 21:\n",
    "        return 'BUST'\n",
    "    \n",
    "    else:\n",
    "        return sum([a,b,c])"
   ]
  },
  {
   "cell_type": "code",
   "execution_count": 8,
   "metadata": {},
   "outputs": [
    {
     "data": {
      "text/plain": [
       "'BUST'"
      ]
     },
     "execution_count": 8,
     "metadata": {},
     "output_type": "execute_result"
    }
   ],
   "source": [
    "blackjack(9,9,9)"
   ]
  },
  {
   "cell_type": "code",
   "execution_count": 10,
   "metadata": {},
   "outputs": [
    {
     "data": {
      "text/plain": [
       "18"
      ]
     },
     "execution_count": 10,
     "metadata": {},
     "output_type": "execute_result"
    }
   ],
   "source": [
    "blackjack(5,6,7)"
   ]
  },
  {
   "cell_type": "code",
   "execution_count": null,
   "metadata": {},
   "outputs": [],
   "source": []
  }
 ],
 "metadata": {
  "kernelspec": {
   "display_name": "Python 3",
   "language": "python",
   "name": "python3"
  },
  "language_info": {
   "codemirror_mode": {
    "name": "ipython",
    "version": 3
   },
   "file_extension": ".py",
   "mimetype": "text/x-python",
   "name": "python",
   "nbconvert_exporter": "python",
   "pygments_lexer": "ipython3",
   "version": "3.7.4"
  }
 },
 "nbformat": 4,
 "nbformat_minor": 2
}
